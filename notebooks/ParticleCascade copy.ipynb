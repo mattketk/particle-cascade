{
 "cells": [
  {
   "cell_type": "code",
   "execution_count": 1,
   "metadata": {},
   "outputs": [],
   "source": [
    "import numpy as np\n",
    "from numpy.random import exponential\n",
    "import matplotlib.pyplot as plt\n",
    "import matplotlib\n",
    "from lmfit import Model\n",
    "from pandas import DataFrame, read_csv"
   ]
  },
  {
   "cell_type": "code",
   "execution_count": 2,
   "metadata": {},
   "outputs": [],
   "source": [
    "matplotlib.rcParams.update({\n",
    "    'pgf.texsystem': 'pdflatex',\n",
    "    'font.family': 'serif',\n",
    "    'text.usetex': True,\n",
    "    'pgf.rcfonts': False,\n",
    "})"
   ]
  },
  {
   "cell_type": "markdown",
   "metadata": {},
   "source": [
    "## Sample an exponential distribution"
   ]
  },
  {
   "cell_type": "code",
   "execution_count": 3,
   "metadata": {},
   "outputs": [
    {
     "data": {
      "image/png": "[encoded data removed]",
      "text/plain": [
       "<Figure size 640x480 with 1 Axes>"
      ]
     },
     "metadata": {},
     "output_type": "display_data"
    }
   ],
   "source": [
    "sampled = np.random.rand(1000)\n",
    "transform_u = lambda u, A: -np.log(u)/A\n",
    "x = np.linspace(0, 5, 100)\n",
    "\n",
    "plt.hist(transform_u(sampled, 1), density=True)\n",
    "plt.plot(x, np.exp(-x))\n",
    "plt.savefig('../deliverables/figures/exp_dist.pdf')"
   ]
  },
  {
   "cell_type": "markdown",
   "metadata": {},
   "source": [
    "## Monte-Carlo Simulation"
   ]
  },
  {
   "cell_type": "code",
   "execution_count": 4,
   "metadata": {},
   "outputs": [],
   "source": [
    "initial_energy = 1e+3\n",
    "brem_crit = 6.9\n",
    "radiation_length = 5.80\n",
    "n_trials = 100"
   ]
  },
  {
   "cell_type": "code",
   "execution_count": 22,
   "metadata": {},
   "outputs": [],
   "source": [
    "def cascade_trial(\n",
    "        radiation_length=5.80,\n",
    "        initial_energy=1e+3, \n",
    "        ion_loss_rate=2.,\n",
    "        brem_crit=6.9,\n",
    "        m_e=0.511,\n",
    "        max_particles=1000000\n",
    "    ):\n",
    "    photons = np.zeros((max_particles, 3))\n",
    "    photon_count = 1 # number of photons that have ever been created\n",
    "\n",
    "    charged = np.zeros((max_particles, 3))\n",
    "    charged_count = 0 # number of charged particles that have ever been created\n",
    "\n",
    "    brem_events = 0\n",
    "    pair_events = 0\n",
    "\n",
    "    photons[0, 0] = initial_energy\n",
    "    photons[0, 2] = 1  # active\n",
    "    # 0: energy, 1: distance, 2: active\n",
    "    while photons[:, 2].sum() > 0:\n",
    "        # photon effects\n",
    "        productive = np.logical_and(photons[:, 0] > 2*m_e, photons[:, 2] == 1)\n",
    "        pair_events += len(photons[productive])\n",
    "        photons[productive, 1] += exponential(size=max_particles, scale=(9/7)*radiation_length)[productive]\n",
    "\n",
    "        new_pairs = np.zeros(photons[productive].shape)\n",
    "        new_pairs[:, 0] = photons[productive, 0] / 2\n",
    "        new_pairs[:, 1] = photons[productive, 1]\n",
    "        new_pairs[:, 2] = 1\n",
    "        new_pairs = np.repeat(new_pairs, 2, axis=0)\n",
    "        charged[charged_count:charged_count+new_pairs.shape[0], :] = new_pairs\n",
    "        charged_count += new_pairs.shape[0]\n",
    "\n",
    "        # make the pair-production photons inactive\n",
    "        photons[productive, 2] = 0\n",
    "\n",
    "        # charged particle effects\n",
    "        bremming = charged[:, 0] > brem_crit\n",
    "        travel = exponential(size=max_particles, scale=radiation_length)[bremming]\n",
    "        brem_energy = charged[bremming, 0] * (1 - np.exp(-travel / radiation_length))\n",
    "\n",
    "        charged[bremming, 0] -= brem_energy + ion_loss_rate * travel\n",
    "        charged[bremming, 1] += travel\n",
    "        charged[bremming, 2] = 1\n",
    "        charged[charged[:, 0] < 0., 0] = 0.\n",
    "        charged[charged[:, 0] < 0., 2] = 0\n",
    "\n",
    "        brem_photons = np.zeros(charged[bremming].shape)\n",
    "        brem_photons[:, 0] = brem_energy\n",
    "        brem_photons[:, 1] = charged[bremming, 1]\n",
    "        brem_photons[brem_photons[:, 0] > 2 * m_e, 2] = 1\n",
    "\n",
    "        photons[photon_count:photon_count+brem_photons.shape[0], :] = brem_photons\n",
    "        photon_count += brem_photons.shape[0]\n",
    "        brem_events += brem_photons.shape[0]\n",
    "\n",
    "    return photons, charged, brem_events, pair_events"
   ]
  },
  {
   "cell_type": "code",
   "execution_count": null,
   "metadata": {},
   "outputs": [],
   "source": [
    "def cascade_trial(\n",
    "        radiation_length=5.80,\n",
    "        initial_energy=1e+3, \n",
    "        ion_loss_rate=2.,\n",
    "        brem_crit=6.9,\n",
    "        m_e=0.511,\n",
    "        max_particles=1000000\n",
    "    ):\n",
    "    photons = np.zeros((max_particles, 3))\n",
    "    photon_count = 1 # number of photons that have ever been created\n",
    "\n",
    "    charged = np.zeros((max_particles, 3))\n",
    "    charged_count = 0 # number of charged particles that have ever been created\n",
    "\n",
    "    brem_events = 0\n",
    "    pair_events = 0\n",
    "\n",
    "    photons[0, 0] = initial_energy\n",
    "    photons[0, 2] = 1  # active\n",
    "    # 0: energy, 1: distance, 2: active\n",
    "    while photons[:, 2].sum() > 0:\n",
    "        # photon effects\n",
    "        productive = np.logical_and(photons[:, 0] > 2*m_e, photons[:, 2] == 1)\n",
    "        pair_events += len(photons[productive])\n",
    "        photons[productive, 1] += exponential(size=max_particles, scale=(9/7)*radiation_length)[productive]\n",
    "        for i in range(productive.sum()):\n",
    "            charged[charged_count, :] = np.array([\n",
    "                photons[productive, 0][i]/2,\n",
    "                photons[productive, 1][i],\n",
    "                1\n",
    "            ])\n",
    "            charged[charged_count+1, :] = np.array([\n",
    "                photons[productive, 0][i]/2,\n",
    "                photons[productive, 1][i],\n",
    "                1\n",
    "            ])\n",
    "            charged_count += 2\n",
    "\n",
    "        photons[productive, 2] = 0\n",
    "\n",
    "        # charged particle effects\n",
    "        for i in np.argwhere(charged[:, 0] > brem_crit).flatten():\n",
    "            travel = exponential(scale=radiation_length)\n",
    "            brem_energy = charged[i, 0] * (1 - np.exp(-travel/radiation_length))\n",
    "\n",
    "            charged[i, :] = np.array([\n",
    "                charged[i, 0] - brem_energy - ion_loss_rate*travel,\n",
    "                charged[i, 1] + travel,\n",
    "                1\n",
    "            ])\n",
    "            charged[i, 0] = charged[i, 0] if charged[i, 0] > 0 else 0.\n",
    "            charged[i, 2] = 1 if charged[i, 0] > 0 else 0.\n",
    "\n",
    "            photons[photon_count, :] = np.array([\n",
    "                brem_energy,\n",
    "                charged[i, 1],\n",
    "                1 if brem_energy > 2*m_e else 0\n",
    "            ])\n",
    "            photon_count += 1\n",
    "            brem_events += 1\n",
    "\n",
    "    return photons, charged, brem_events, pair_events"
   ]
  },
  {
   "cell_type": "code",
   "execution_count": 28,
   "metadata": {},
   "outputs": [],
   "source": [
    "total_charged = []\n",
    "total_photons = []\n",
    "for i in range(n_trials):\n",
    "    photons, charged, brem_events, pair_events = cascade_trial()\n",
    "    total_charged.append(charged[charged[:, 1] > 0, :])\n",
    "    total_photons.append(photons[photons[:, 1] > 0, :])\n",
    "    \n",
    "total_charged = np.vstack(total_charged)\n",
    "total_photons = np.vstack(total_photons)"
   ]
  },
  {
   "cell_type": "code",
   "execution_count": 29,
   "metadata": {},
   "outputs": [],
   "source": [
    "charged_save = DataFrame(total_charged, columns=['Energy (MeV)', 'Depth (g/cm2)', 'Active'])\n",
    "charged_save.to_csv('data/charged.csv', index=False)\n",
    "\n",
    "photon_save = DataFrame(total_charged, columns=['Energy (MeV)', 'Depth (g/cm2)', 'Active'])\n",
    "photon_save.to_csv('data/photon.csv', index=False)"
   ]
  },
  {
   "cell_type": "code",
   "execution_count": 30,
   "metadata": {},
   "outputs": [
    {
     "name": "stdout",
     "output_type": "stream",
     "text": [
      "[[Model]]\n",
      "    Model(fit_function)\n",
      "[[Fit Statistics]]\n",
      "    # fitting method   = leastsq\n",
      "    # function evals   = 25\n",
      "    # data points      = 76\n",
      "    # variables        = 3\n",
      "    chi-square         = 3.63022328\n",
      "    reduced chi-square = 0.04972909\n",
      "    Akaike info crit   = -225.149378\n",
      "    Bayesian info crit = -218.157178\n",
      "    R-squared          = 0.99487692\n",
      "[[Variables]]\n",
      "    a:  6.3952e-05 +/- 1.5014e-05 (23.48%) (init = 0.008)\n",
      "    b:  4.06582856 +/- 0.07886042 (1.94%) (init = 4)\n",
      "    c:  12.2261355 +/- 0.21710408 (1.78%) (init = 13)\n",
      "[[Correlations]] (unreported correlations are < 0.100)\n",
      "    C(a, b) = -0.9964\n",
      "    C(b, c) = -0.9728\n",
      "    C(a, c) = +0.9508\n"
     ]
    },
    {
     "data": {
      "image/png": "[encoded data removed]",
      "text/plain": [
       "<Figure size 640x480 with 1 Axes>"
      ]
     },
     "metadata": {},
     "output_type": "display_data"
    },
    {
     "data": {
      "image/png": "[encoded data removed]",
      "text/plain": [
       "<Figure size 640x480 with 1 Axes>"
      ]
     },
     "metadata": {},
     "output_type": "display_data"
    }
   ],
   "source": [
    "total_charged = read_csv('data/charged.csv')\n",
    "total_photons = read_csv('data/photon.csv')\n",
    "\n",
    "bin_counts, bin_edges, _ = plt.hist(total_charged['Depth (g/cm2)'], density=False, bins='auto', label=f'Trials = {n_trials}');\n",
    "bin_counts /= n_trials\n",
    "plt.xlabel('Radiation Depth [g/cm$^2$]')\n",
    "plt.ylabel('Charged Particle Counts')\n",
    "plt.title('Charged Particle Radiation Depth Histogram')\n",
    "plt.savefig('../deliverables/figures/charged_depth_hist.pdf')\n",
    "bin_centers = (bin_edges[1:] + bin_edges[:-1])/2\n",
    "\n",
    "def fit_function(x, a, b, c):\n",
    "    return a * x ** b * np.exp(-x / c)\n",
    "\n",
    "x = bin_centers\n",
    "y = bin_counts\n",
    "\n",
    "fit_model = Model(fit_function)\n",
    "params = fit_model.make_params(a=8e-3, b=4., c=13)\n",
    "results = fit_model.fit(y, params, x=x)\n",
    "x_fit = np.linspace(\n",
    "    bin_centers.min(),\n",
    "    bin_centers.max(),\n",
    "    500\n",
    ")\n",
    "\n",
    "fig, ax = plt.subplots()\n",
    "ax.grid()\n",
    "# ax.scatter(bin_centers, bin_counts, color='black', label='Data')\n",
    "ax.errorbar(bin_centers, bin_counts, yerr=np.sqrt(bin_counts / n_trials), fmt='o', color='black')\n",
    "ax.set_xlabel('Radiation Depth [g/cm$^2$]')\n",
    "ax.set_ylabel('$e^-,e^+$ Counts')\n",
    "ax.set_title('Charged Particle Shower Curve for $E_\\\\gamma = 1$ GeV')\n",
    "\n",
    "expected_peak = np.log(initial_energy / brem_crit) / np.log(2.) * radiation_length\n",
    "ax.axvline(expected_peak, color='red', linestyle='--', label=f'Expected Peak {expected_peak:.3} [g/cm$^2$]')\n",
    "\n",
    "ax.plot(x_fit, fit_model.eval(results.params, x=x_fit), label='Fit', color='blue')\n",
    "ax.legend()\n",
    "\n",
    "fig.savefig('../deliverables/figures/charged_depth_results.pdf')\n",
    "print(results.fit_report())"
   ]
  },
  {
   "cell_type": "markdown",
   "metadata": {},
   "source": [
    "- errorbars of a histogram [Histograms](https://www.quarknet.org/sites/default/files/histogram_uncertainty_tchr_31oct19.pdf):\n",
    "> When collecting data by counting, the underlying statistical distribution is a Poisson distribution\n",
    "because counting can never be negative. Since particle physicists perform counting experiments, the\n",
    "uncertainty in a count is determined using the standard deviation for the Poisson distribution $$\\sqrt{N}$$"
   ]
  },
  {
   "cell_type": "markdown",
   "metadata": {},
   "source": [
    "## Other analyses\n",
    "- Modeling how fit parameters vary with bin count/width\n",
    "- Plotting shower curve area to initial photon energy"
   ]
  },
  {
   "cell_type": "code",
   "execution_count": null,
   "metadata": {},
   "outputs": [],
   "source": [
    "photons = total_photons[total_photons['Energy (MeV)'] > 0]['Energy (MeV)']\n",
    "energy_counts, energy_bins, _ = plt.hist(photons, density=False, bins='auto');\n",
    "energy_centers = (energy_bins[1:] + energy_bins[:-1])/2\n",
    "\n",
    "fig2, ax2 = plt.subplots()\n",
    "ax2.semilogx(energy_centers, energy_counts, 'o')\n",
    "ax2.set_xlabel('Photon Energy [MeV]')\n",
    "ax2.set_ylabel('Photon Counts')\n",
    "ax2.set_title('Cascade Spectrum for $E_\\\\gamma = 1$ GeV')"
   ]
  },
  {
   "cell_type": "code",
   "execution_count": 31,
   "metadata": {},
   "outputs": [
    {
     "data": {
      "text/plain": [
       "540.8374446018418"
      ]
     },
     "execution_count": 31,
     "metadata": {},
     "output_type": "execute_result"
    }
   ],
   "source": [
    "shower_curve_area = np.trapz(bin_counts, bin_centers)\n",
    "shower_curve_area"
   ]
  },
  {
   "cell_type": "code",
   "execution_count": null,
   "metadata": {},
   "outputs": [],
   "source": []
  }
 ],
 "metadata": {
  "kernelspec": {
   "display_name": "phys-434",
   "language": "python",
   "name": "python3"
  },
  "language_info": {
   "codemirror_mode": {
    "name": "ipython",
    "version": 3
   },
   "file_extension": ".py",
   "mimetype": "text/x-python",
   "name": "python",
   "nbconvert_exporter": "python",
   "pygments_lexer": "ipython3",
   "version": "3.11.4"
  }
 },
 "nbformat": 4,
 "nbformat_minor": 2
}
